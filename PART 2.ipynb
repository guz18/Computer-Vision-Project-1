{
 "cells": [
  {
   "cell_type": "markdown",
   "id": "parallel-theater",
   "metadata": {},
   "source": [
    "### GÖKSU GÜZ 150180715"
   ]
  },
  {
   "cell_type": "code",
   "execution_count": 1,
   "id": "peaceful-palestinian",
   "metadata": {},
   "outputs": [],
   "source": [
    "import numpy as np\n",
    "import os\n",
    "import cv2\n",
    "import moviepy.editor as mpy\n",
    "from matplotlib import pyplot as plt"
   ]
  },
  {
   "cell_type": "code",
   "execution_count": 2,
   "id": "limited-luther",
   "metadata": {},
   "outputs": [
    {
     "name": "stdout",
     "output_type": "stream",
     "text": [
      "(776, 1998, 3)\n"
     ]
    }
   ],
   "source": [
    "background = cv2.imread('Malibu.jpg')\n",
    "cv2.imshow('Background Image Window', background)\n",
    "print(background.shape)"
   ]
  },
  {
   "cell_type": "code",
   "execution_count": 3,
   "id": "worse-singles",
   "metadata": {},
   "outputs": [
    {
     "name": "stdout",
     "output_type": "stream",
     "text": [
      "(360, 926, 3)\n"
     ]
    }
   ],
   "source": [
    "background_height = background.shape[0]\n",
    "background_width = background.shape[1]\n",
    "ratio = 360/background_height\n",
    "background = cv2.resize(background,(int(background_width*ratio), 360))\n",
    "print(background.shape)"
   ]
  },
  {
   "cell_type": "code",
   "execution_count": 4,
   "id": "public-bubble",
   "metadata": {
    "scrolled": true
   },
   "outputs": [],
   "source": [
    "directory = 'cat/'\n",
    "R = []\n",
    "G = []\n",
    "B = []\n",
    "images_list = []\n",
    "ref = cv2.imread('target.jpg')\n",
    "\n",
    "for number in range(180):\n",
    "    \n",
    "    filename = directory + 'cat_' + str(number) + '.png'\n",
    "    image = cv2.imread(filename)\n",
    "    image2 = cv2.flip(image,1)\n",
    "    \n",
    "    arr1 = image2[:,:,0]\n",
    "    arr2 = image2[:,:,1]\n",
    "    arr3 = image2[:,:,2]\n",
    "    \n",
    "    histr1, bin_edges = np.histogram(arr1, density=True, bins = 256)\n",
    "    histr2, bin_edges = np.histogram(arr2, density=True, bins = 256)\n",
    "    histr3, bin_edges = np.histogram(arr3, density=True, bins = 256)\n",
    "    \n",
    "    R.append(histr1)\n",
    "    G.append(histr2)\n",
    "    B.append(histr3)\n",
    "    \n",
    "R = np.array(R)\n",
    "G = np.array(G)\n",
    "B = np.array(B)\n",
    "\n",
    "columns_averageR = R.mean(axis=0)\n",
    "columns_averageG = G.mean(axis=0)\n",
    "columns_averageB = B.mean(axis=0)\n",
    "\n",
    "#for Reference Image\n",
    "arrRef1= ref[:,:,0]\n",
    "arrRef2= ref[:,:,1]\n",
    "arrRef3= ref[:,:,2]\n",
    "\n",
    "histRef1, bin_edges = np.histogram(arrRef1, bins = 256)\n",
    "histRef2, bin_edges = np.histogram(arrRef2, bins = 256)\n",
    "histRef3, bin_edges = np.histogram(arrRef3, bins = 256)\n",
    "\n",
    "#For Soruce Image \n",
    "#R\n",
    "cdf1 = np.cumsum(columns_averageR/sum(columns_averageR))\n",
    "#G\n",
    "cdf2 = np.cumsum(columns_averageG/sum(columns_averageG))\n",
    "#B\n",
    "cdf3 = np.cumsum(columns_averageB/sum(columns_averageB))\n",
    "\n",
    "#For Reference Image\n",
    "#R\n",
    "cdfRef1 = np.cumsum(histRef1/sum(histRef1))\n",
    "#G\n",
    "cdfRef2 = np.cumsum(histRef2/sum(histRef2))\n",
    "#B\n",
    "cdfRef3 = np.cumsum(histRef3/sum(histRef3))"
   ]
  },
  {
   "cell_type": "code",
   "execution_count": 5,
   "id": "discrete-legend",
   "metadata": {},
   "outputs": [],
   "source": [
    "LUTR = np.zeros((256, 1))\n",
    "LUTG = np.zeros((256, 1))\n",
    "LUTB = np.zeros((256, 1))\n",
    "\n",
    "gj = 0\n",
    "for gi in range(256):\n",
    "    while cdfRef1[gj]<cdf1[gi] and gj<255:\n",
    "        gj = gj+1\n",
    "    LUTR[gi] = gj\n",
    "gj = 0\n",
    "for gi in range(256):\n",
    "    while cdfRef2[gj]<cdf2[gi] and gj<255:\n",
    "        gj = gj+1\n",
    "    LUTG[gi] = gj\n",
    "    \n",
    "gj = 0\n",
    "for gi in range(256):\n",
    "    while cdfRef3[gj]<cdf3[gi] and gj<255:\n",
    "        gj = gj+1\n",
    "    LUTB[gi] = gj"
   ]
  },
  {
   "cell_type": "code",
   "execution_count": 6,
   "id": "irish-gardening",
   "metadata": {},
   "outputs": [],
   "source": [
    "def applyLut(img):\n",
    "    x = np.shape(img)\n",
    "    x = np.array(x)\n",
    "    x = x[0]\n",
    "    for i in range(x):\n",
    "        img[i,0] = LUTR[img[i,0]]\n",
    "        img[i,1] = LUTG[img[i,1]]\n",
    "        img[i,2] = LUTB[img[i,2]] \n",
    "    return img\n",
    "    "
   ]
  },
  {
   "cell_type": "code",
   "execution_count": 7,
   "id": "framed-family",
   "metadata": {
    "scrolled": true
   },
   "outputs": [],
   "source": [
    "for number in range(180):\n",
    "    filename = directory + 'cat_' + str(number) + '.png'\n",
    "    image = cv2.imread(filename)\n",
    "    image2 = cv2.flip(image,1)\n",
    "   \n",
    "    foreground = np.logical_or(image[:,:,1] < 180, image[:,:,0] > 150)\n",
    "    foreground2 = np.logical_or(image2[:,:,1] < 180, image2[:,:,0] > 150)\n",
    "\n",
    "    nonzero_x, nonzero_y = np.nonzero(foreground)\n",
    "    nonzero_cat_values = image[nonzero_x, nonzero_y, :]\n",
    "    \n",
    "    nonzero_x2, nonzero_y2 = np.nonzero(foreground2)\n",
    "    nonzero_cat_values2 = image2[nonzero_x2 , nonzero_y2, :]\n",
    "    nonzero_cat_values2 = applyLut(nonzero_cat_values2)\n",
    "    \n",
    "    new_frame = background.copy()\n",
    "    new_frame[nonzero_x, nonzero_y, :] = nonzero_cat_values\n",
    "    new_frame[nonzero_x2, nonzero_y2+286, :] = nonzero_cat_values2 \n",
    "    new_frame = new_frame[:,:,[2,1,0]]\n",
    "    images_list.append(new_frame)"
   ]
  },
  {
   "cell_type": "code",
   "execution_count": 10,
   "id": "norman-series",
   "metadata": {},
   "outputs": [
    {
     "name": "stderr",
     "output_type": "stream",
     "text": [
      "\r",
      "chunk:   0%|                                                                         | 0/159 [00:00<?, ?it/s, now=None]"
     ]
    },
    {
     "name": "stdout",
     "output_type": "stream",
     "text": [
      "(180, 360, 926, 3)\n",
      "Moviepy - Building video part2_video.mp4.\n",
      "MoviePy - Writing audio in part2_videoTEMP_MPY_wvf_snd.mp3\n"
     ]
    },
    {
     "name": "stderr",
     "output_type": "stream",
     "text": [
      "t:  17%|███████████▍                                                       | 31/181 [00:00<00:00, 161.83it/s, now=None]"
     ]
    },
    {
     "name": "stdout",
     "output_type": "stream",
     "text": [
      "MoviePy - Done.\n",
      "Moviepy - Writing video part2_video.mp4\n",
      "\n"
     ]
    },
    {
     "name": "stderr",
     "output_type": "stream",
     "text": [
      "                                                                                                                       \r"
     ]
    },
    {
     "name": "stdout",
     "output_type": "stream",
     "text": [
      "Moviepy - Done !\n",
      "Moviepy - video ready part2_video.mp4\n"
     ]
    }
   ],
   "source": [
    "print(np.array(images_list).shape)\n",
    "clip = mpy.ImageSequenceClip(images_list, fps = 25)\n",
    "audio = mpy.AudioFileClip('selfcontrol_part.wav').set_duration(clip.duration)\n",
    "clip = clip.set_audio(audioclip = audio)\n",
    "clip.write_videofile('part2_video.mp4', codec = 'libx264')"
   ]
  },
  {
   "cell_type": "code",
   "execution_count": null,
   "id": "acquired-sleeve",
   "metadata": {},
   "outputs": [],
   "source": []
  }
 ],
 "metadata": {
  "kernelspec": {
   "display_name": "Python 3",
   "language": "python",
   "name": "python3"
  },
  "language_info": {
   "codemirror_mode": {
    "name": "ipython",
    "version": 3
   },
   "file_extension": ".py",
   "mimetype": "text/x-python",
   "name": "python",
   "nbconvert_exporter": "python",
   "pygments_lexer": "ipython3",
   "version": "3.9.0"
  }
 },
 "nbformat": 4,
 "nbformat_minor": 5
}
