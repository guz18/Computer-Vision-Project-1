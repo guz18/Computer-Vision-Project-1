{
 "cells": [
  {
   "cell_type": "markdown",
   "id": "hired-ethnic",
   "metadata": {},
   "source": [
    "### GÖKSU GÜZ 150180715"
   ]
  },
  {
   "cell_type": "code",
   "execution_count": 1,
   "id": "dense-combining",
   "metadata": {},
   "outputs": [],
   "source": [
    "import numpy as np\n",
    "import os\n",
    "import cv2\n",
    "import moviepy.editor as mpy"
   ]
  },
  {
   "cell_type": "code",
   "execution_count": 2,
   "id": "numeric-worth",
   "metadata": {},
   "outputs": [],
   "source": [
    "background = cv2.imread('Malibu.jpg')\n",
    "cv2.imshow('Background Image Window', background)"
   ]
  },
  {
   "cell_type": "code",
   "execution_count": 3,
   "id": "continued-cholesterol",
   "metadata": {},
   "outputs": [
    {
     "name": "stdout",
     "output_type": "stream",
     "text": [
      "(360, 926, 3)\n"
     ]
    }
   ],
   "source": [
    "background_height = background.shape[0]\n",
    "background_width = background.shape[1]\n",
    "ratio = 360/background_height\n",
    "background = cv2.resize(background,(int(background_width*ratio), 360))\n",
    "print(background.shape)"
   ]
  },
  {
   "cell_type": "code",
   "execution_count": 4,
   "id": "biological-czech",
   "metadata": {},
   "outputs": [],
   "source": [
    "directory = 'cat/'\n",
    "\n",
    "images_list = []\n",
    "images_list2 = []\n",
    "for number in range(180):\n",
    "    filename = directory + 'cat_' + str(number) + '.png'\n",
    "    image = cv2.imread(filename)\n",
    "    image2 = cv2.flip(image,1)\n",
    "    foreground = np.logical_or(image[:,:,1] < 180, image[:,:,0] > 150)\n",
    "    foreground2 = np.logical_or(image2[:,:,1] < 180, image2[:,:,0] > 150)\n",
    "    nonzero_x, nonzero_y = np.nonzero(foreground)\n",
    "    nonzero_cat_values = image[nonzero_x, nonzero_y, :]\n",
    "    nonzero_x2, nonzero_y2 = np.nonzero(foreground2)\n",
    "    nonzero_cat_values2 = image2[nonzero_x2 , nonzero_y2, :]\n",
    "    new_frame = background.copy()\n",
    "    new_frame[nonzero_x, nonzero_y, :] = nonzero_cat_values\n",
    "    new_frame[nonzero_x2, nonzero_y2+286, :] = nonzero_cat_values2 \n",
    "    new_frame = new_frame[:,:,[2,1,0]]\n",
    "    images_list.append(new_frame)\n"
   ]
  },
  {
   "cell_type": "code",
   "execution_count": 5,
   "id": "blessed-bangkok",
   "metadata": {},
   "outputs": [
    {
     "name": "stderr",
     "output_type": "stream",
     "text": [
      "\r",
      "chunk:   0%|                                                                         | 0/159 [00:00<?, ?it/s, now=None]"
     ]
    },
    {
     "name": "stdout",
     "output_type": "stream",
     "text": [
      "Moviepy - Building video part1_video.mp4.\n",
      "MoviePy - Writing audio in part1_videoTEMP_MPY_wvf_snd.mp3\n"
     ]
    },
    {
     "name": "stderr",
     "output_type": "stream",
     "text": [
      "t:   0%|                                                                             | 0/181 [00:00<?, ?it/s, now=None]"
     ]
    },
    {
     "name": "stdout",
     "output_type": "stream",
     "text": [
      "MoviePy - Done.\n",
      "Moviepy - Writing video part1_video.mp4\n",
      "\n"
     ]
    },
    {
     "name": "stderr",
     "output_type": "stream",
     "text": [
      "                                                                                                                       \r"
     ]
    },
    {
     "name": "stdout",
     "output_type": "stream",
     "text": [
      "Moviepy - Done !\n",
      "Moviepy - video ready part1_video.mp4\n"
     ]
    }
   ],
   "source": [
    "clip = mpy.ImageSequenceClip(images_list, fps = 25)\n",
    "audio = mpy.AudioFileClip('selfcontrol_part.wav').set_duration(clip.duration)\n",
    "clip = clip.set_audio(audioclip = audio)\n",
    "clip.write_videofile('part1_video.mp4', codec = 'libx264')"
   ]
  },
  {
   "cell_type": "code",
   "execution_count": null,
   "id": "announced-gravity",
   "metadata": {},
   "outputs": [],
   "source": []
  }
 ],
 "metadata": {
  "kernelspec": {
   "display_name": "Python 3",
   "language": "python",
   "name": "python3"
  },
  "language_info": {
   "codemirror_mode": {
    "name": "ipython",
    "version": 3
   },
   "file_extension": ".py",
   "mimetype": "text/x-python",
   "name": "python",
   "nbconvert_exporter": "python",
   "pygments_lexer": "ipython3",
   "version": "3.9.0"
  }
 },
 "nbformat": 4,
 "nbformat_minor": 5
}
