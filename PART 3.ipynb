{
 "cells": [
  {
   "cell_type": "markdown",
   "id": "powered-quantity",
   "metadata": {},
   "source": [
    "# GÖKSU GÜZ 150180715"
   ]
  },
  {
   "cell_type": "code",
   "execution_count": 1,
   "id": "precious-crest",
   "metadata": {},
   "outputs": [],
   "source": [
    "import numpy as np\n",
    "import cv2\n",
    "import os\n",
    "import moviepy.editor as moviepy\n",
    "import matplotlib.pyplot as plt"
   ]
  },
  {
   "cell_type": "code",
   "execution_count": 2,
   "id": "about-wrapping",
   "metadata": {},
   "outputs": [],
   "source": [
    "album = cv2.imread('tarkan.jpg')\n",
    "album = cv2.cvtColor(album, cv2.COLOR_BGR2RGB)\n",
    "album = cv2.resize(album,(572,322))\n",
    "planes = np.zeros((9,472,4,3))\n",
    "imagesofTarkan = []\n"
   ]
  },
  {
   "cell_type": "code",
   "execution_count": 3,
   "id": "following-amber",
   "metadata": {},
   "outputs": [],
   "source": [
    "# from the BLG453EWeek3-GeometricTransforms slide 50.\n",
    "# q = M*(-1).a\n",
    "def persCalc(src,dst):\n",
    "    a = [[dst[0][0], dst[0][1], 1,  0,  0,  0,  0, 0],\n",
    "        [0,  0,  0,  dst[0][0], dst[0][1], 1,  0, 0],\n",
    "        [dst[1][0], dst[1][1], 1,  0,  0,  0,  -dst[1][0]*571, -dst[1][1]*571],\n",
    "        [0,  0,  0,  dst[1][0], dst[1][1], 1,  0, 0],\n",
    "        [dst[2][0], dst[2][1], 1,  0,  0,  0,  0, 0],\n",
    "        [0,  0,  0,  dst[2][0], dst[2][1], 1,  -dst[2][0]*321, -dst[2][1]*321], \n",
    "        [dst[3][0], dst[3][1], 1,  0,  0,  0,  -dst[3][0]*571, -dst[3][1]*571],\n",
    "        [0,  0,  0,  dst[3][0], dst[3][1], 1,  -dst[3][0]*321, -dst[3][1]*321]]\n",
    "    q = [[0],[0],[571],[0],[0],[321],[571],[321]]\n",
    "    #print(np.shape(q))\n",
    "    m = np.linalg.lstsq(a,q)[0]\n",
    "    #print(np.shape(m))\n",
    "    mat = [[float(m[0]),float(m[1]),float(m[2])],[float(m[3]),float(m[4]),float(m[5])],[float(m[6]),float(m[7]),1]]\n",
    "    #print(mat)\n",
    "    result = np.linalg.inv(mat)\n",
    "    return result\n",
    "    "
   ]
  },
  {
   "cell_type": "code",
   "execution_count": 4,
   "id": "swedish-albany",
   "metadata": {},
   "outputs": [],
   "source": [
    "for i in range(1,10):\n",
    "    imagesofTarkan.append([])\n",
    "\n",
    "    with open(\"Plane_\"+str(i)+\".txt\") as f:\n",
    "        content = f.readlines()\n",
    "        for line_id in range(len(content)):\n",
    "            sel_line = content[line_id]\n",
    "            sel_line = sel_line.replace(')\\n', '').replace(\"(\", '').split(\")\")\n",
    "            output_pts = []\n",
    "            for point_id in range(4):\n",
    "                sel_point = sel_line[point_id].split(\" \")\n",
    "                planes[i-1,line_id,point_id,0] = float(sel_point[0])\n",
    "                planes[i-1,line_id,point_id,1] = float(sel_point[1])\n",
    "                planes[i-1,line_id,point_id,2] = float(sel_point[2])\n",
    "                output_pts.append([np.float32(sel_point[0]),np.float32(sel_point[1])])\n",
    "            output_pts= np.float32(output_pts)\n",
    "            input_pts = np.float32([[0, 0],\n",
    "                                    [321, 0],\n",
    "                                    [0, 571],\n",
    "                                    [321, 571]])\n",
    "            deneme = persCalc(input_pts,output_pts)\n",
    "            out = cv2.warpPerspective(album,deneme,(572,322))\n",
    "            imagesofTarkan[i-1].append(out)\n",
    "    "
   ]
  },
  {
   "cell_type": "code",
   "execution_count": 5,
   "id": "federal-berkeley",
   "metadata": {},
   "outputs": [
    {
     "name": "stdout",
     "output_type": "stream",
     "text": [
      "(790, 800, 3)\n",
      "(322, 572, 3)\n"
     ]
    }
   ],
   "source": [
    "cat = cv2.imread('cat-headphones.png')\n",
    "cat = cv2.cvtColor(cat, cv2.COLOR_BGR2RGB)\n",
    "print(np.shape(cat))\n",
    "cat = cv2.resize(cat,(572,322))\n",
    "print(np.shape(cat))"
   ]
  },
  {
   "cell_type": "code",
   "execution_count": 6,
   "id": "confirmed-check",
   "metadata": {},
   "outputs": [],
   "source": [
    "images_list = []\n",
    "for i in range(472):\n",
    "    res = np.zeros((322,572,3), np.uint8)\n",
    "    for j in range(3):\n",
    "        res[:,:,j] = 255\n",
    "    tempForFrame = []\n",
    "    #In this part to overlay images i found their y axis\n",
    "    for j in range(9):\n",
    "        pts = planes[j,i,:,:].squeeze()[:,0:2].astype(np.int32)\n",
    "        y_l = np.absolute(pts[1][1] - pts[2][1])\n",
    "        tempForFrame.append([y_l,j])\n",
    "    tempForFrame.sort()\n",
    "    for z in range(9):\n",
    "        if z == 4:\n",
    "            cnd = cat[:, :, 2] > 0\n",
    "            res[cnd] = cat[cnd]\n",
    "        j = tempForFrame[z]\n",
    "        j = j[1]\n",
    "        x = np.uint8(imagesofTarkan[j][i])\n",
    "        pts = planes[j,i,:,:].squeeze()[:,0:2].astype(np.int32)\n",
    "        temp = np.copy(pts[3,:])\n",
    "        pts[3, :] = pts[2,:]\n",
    "        pts[2, :] = temp\n",
    "        pts = pts.reshape((-1, 1, 2))\n",
    "        cnd = x[:, :, 2] > 0\n",
    "        res[cnd] = x[cnd]\n",
    "        cv2.polylines(res, [pts], True, (0, 255, 255))\n",
    "    images_list.append(res)"
   ]
  },
  {
   "cell_type": "code",
   "execution_count": 7,
   "id": "atlantic-highway",
   "metadata": {
    "scrolled": true
   },
   "outputs": [
    {
     "name": "stderr",
     "output_type": "stream",
     "text": [
      "\r",
      "t:   0%|                                                                             | 0/472 [00:00<?, ?it/s, now=None]"
     ]
    },
    {
     "name": "stdout",
     "output_type": "stream",
     "text": [
      "Moviepy - Building video part3_vid.mp4.\n",
      "Moviepy - Writing video part3_vid.mp4\n",
      "\n"
     ]
    },
    {
     "name": "stderr",
     "output_type": "stream",
     "text": [
      "                                                                                                                       \r"
     ]
    },
    {
     "name": "stdout",
     "output_type": "stream",
     "text": [
      "Moviepy - Done !\n",
      "Moviepy - video ready part3_vid.mp4\n"
     ]
    }
   ],
   "source": [
    "clip = moviepy.ImageSequenceClip(images_list, fps = 50)\n",
    "# I can change the pace\n",
    "clip.write_videofile(\"part3_vid.mp4\", codec=\"libx264\")"
   ]
  },
  {
   "cell_type": "code",
   "execution_count": null,
   "id": "inappropriate-sudan",
   "metadata": {},
   "outputs": [],
   "source": []
  }
 ],
 "metadata": {
  "kernelspec": {
   "display_name": "Python 3",
   "language": "python",
   "name": "python3"
  },
  "language_info": {
   "codemirror_mode": {
    "name": "ipython",
    "version": 3
   },
   "file_extension": ".py",
   "mimetype": "text/x-python",
   "name": "python",
   "nbconvert_exporter": "python",
   "pygments_lexer": "ipython3",
   "version": "3.9.0"
  }
 },
 "nbformat": 4,
 "nbformat_minor": 5
}
